{
 "cells": [
  {
   "cell_type": "markdown",
   "metadata": {},
   "source": [
    "# Predicting NBA championship winner\n",
    "## Load and transform the data"
   ]
  },
  {
   "cell_type": "code",
   "execution_count": 3,
   "metadata": {
    "collapsed": false
   },
   "outputs": [],
   "source": [
    "# import libraries\n",
    "import os\n",
    "import csv\n",
    "import pandas as pd\n",
    "import numpy as np\n",
    "from sklearn import cross_validation\n",
    "from sklearn import linear_model"
   ]
  },
  {
   "cell_type": "markdown",
   "metadata": {},
   "source": [
    "## Predict results"
   ]
  },
  {
   "cell_type": "markdown",
   "metadata": {},
   "source": [
    "We will use a simple linear regression model to predict the number of points scored by the two teams of each game, and hence the result of the game. We are able to predict the winner for approximately *68.2%* of the games."
   ]
  },
  {
   "cell_type": "code",
   "execution_count": 15,
   "metadata": {
    "collapsed": false
   },
   "outputs": [
    {
     "name": "stdout",
     "output_type": "stream",
     "text": [
      "Accuracy: 0.6818 +/- 0.0196\n"
     ]
    }
   ],
   "source": [
    "# read csv and create a pandas dataset\n",
    "dataset = pd.read_csv(os.path.join('data', 'dataset.csv.gz'))\n",
    "dataset['away_team_W%'] = dataset.apply(lambda row: float(row['away_team_W'])/float(row['away_team_GP']), axis=1)\n",
    "dataset['home_team_W%'] = dataset.apply(lambda row: float(row['home_team_W'])/float(row['home_team_GP']), axis=1)\n",
    "\n",
    "# define the features\n",
    "X = dataset.as_matrix(\n",
    "    [\n",
    "        'away_team_PSPG',\n",
    "        'away_team_PAPG',\n",
    "        'home_team_PSPG',\n",
    "        'home_team_PAPG',\n",
    "        'home_team_W%',\n",
    "        'away_team_W%', \n",
    "        'away_team_last5_W%',\n",
    "        'home_team_last5_W%'\n",
    "    ]\n",
    ")\n",
    "\n",
    "# define the variables to be predicted\n",
    "Y = dataset.as_matrix(['home_team_points', 'away_team_points'])\n",
    "\n",
    "# define a 10 fold cross validation procedure\n",
    "k_fold = cross_validation.KFold(n = len(dataset), n_folds = 10)\n",
    "\n",
    "# declare a classifier\n",
    "clf = linear_model.LinearRegression()\n",
    "\n",
    "accuracy = []\n",
    "\n",
    "# for each fold...\n",
    "for train_indices, test_indices in k_fold:\n",
    "    \n",
    "    # get training and test samples\n",
    "    train_X = X[train_indices]\n",
    "    train_Y = Y[train_indices]\n",
    "    test_X = X[test_indices]\n",
    "    test_Y = Y[test_indices]\n",
    "    \n",
    "    # fit the model\n",
    "    model = clf.fit(train_X, train_Y)\n",
    "    \n",
    "    # predict the score\n",
    "    predictions = model.predict(test_X)\n",
    "    \n",
    "    # infer the winner\n",
    "    predictions_winner = [(0 if x[0]>x[1] else 1) for x in predictions]\n",
    "    \n",
    "    # get the real result of the game\n",
    "    gt_winner = [(0 if x[0]>x[1] else 1) for x in test_Y]\n",
    "    \n",
    "    # check whether the prediction matches the ground truth and compute the accuracy\n",
    "    prediction_matches = [predictions_winner[ind] == gt_winner[ind] for ind, _ in enumerate(predictions_winner)]\n",
    "    accuracy.append(float(sum(prediction_matches))/float(len(prediction_matches)))\n",
    "\n",
    "# overall accuracy is the mean accuracy for each fold\n",
    "print 'Accuracy: %.4f +/- %.4f' % (np.mean(accuracy), np.std(accuracy))\n",
    "    "
   ]
  }
 ],
 "metadata": {
  "kernelspec": {
   "display_name": "Python 2",
   "language": "python",
   "name": "python2"
  },
  "language_info": {
   "codemirror_mode": {
    "name": "ipython",
    "version": 2
   },
   "file_extension": ".py",
   "mimetype": "text/x-python",
   "name": "python",
   "nbconvert_exporter": "python",
   "pygments_lexer": "ipython2",
   "version": "2.7.10"
  }
 },
 "nbformat": 4,
 "nbformat_minor": 0
}
